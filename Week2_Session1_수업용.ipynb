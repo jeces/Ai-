{
  "nbformat": 4,
  "nbformat_minor": 0,
  "metadata": {
    "kernelspec": {
      "display_name": "Python 3",
      "language": "python",
      "name": "python3"
    },
    "language_info": {
      "codemirror_mode": {
        "name": "ipython",
        "version": 3
      },
      "file_extension": ".py",
      "mimetype": "text/x-python",
      "name": "python",
      "nbconvert_exporter": "python",
      "pygments_lexer": "ipython3",
      "version": "3.6.4"
    },
    "nav_menu": {
      "height": "279px",
      "width": "309px"
    },
    "toc": {
      "nav_menu": {},
      "number_sections": true,
      "sideBar": true,
      "skip_h1_title": false,
      "toc_cell": false,
      "toc_position": {},
      "toc_section_display": "block",
      "toc_window_display": false
    },
    "colab": {
      "provenance": [],
      "include_colab_link": true
    }
  },
  "cells": [
    {
      "cell_type": "markdown",
      "metadata": {
        "id": "view-in-github",
        "colab_type": "text"
      },
      "source": [
        "<a href=\"https://colab.research.google.com/github/jeces/Ai-/blob/main/Week2_Session1_%E1%84%89%E1%85%AE%E1%84%8B%E1%85%A5%E1%86%B8%E1%84%8B%E1%85%AD%E1%86%BC.ipynb\" target=\"_parent\"><img src=\"https://colab.research.google.com/assets/colab-badge.svg\" alt=\"Open In Colab\"/></a>"
      ]
    },
    {
      "cell_type": "markdown",
      "metadata": {
        "id": "-nQ92ANDGOXk"
      },
      "source": [
        "**AI 노바투스과정**\n",
        "\n",
        "Week 2 (2022-01-13)\n",
        "\n",
        "실습 #1: California Housing Price 집값 예측 회귀 모델 학습하기"
      ]
    },
    {
      "cell_type": "markdown",
      "metadata": {
        "id": "FTxCm-t7jZi_"
      },
      "source": [
        "# **실습 #1-0 : California Housing Price Dataset을 다운로드 받아야합니다.**\n",
        "- 먼저 Google에서 California Housing Price Dataset을 검색해주세요.\n",
        "- \"California Housing Prices | Kaggle\"이라고 쓰여있는 글을 클릭해주세요.\n",
        "- housing.csv 파일을 다운로드해주세요.\n",
        "\n",
        "- 그 후 왼쪽 탭에서 Google Colab으로 다운로드 받은 housing.csv 파일을 업로드해줍니다."
      ]
    },
    {
      "cell_type": "markdown",
      "metadata": {
        "id": "qa6zWYr0kbF7"
      },
      "source": [
        "# **실습 #1-1: 데이터 불러오기 그리고 살펴보기**"
      ]
    },
    {
      "cell_type": "markdown",
      "metadata": {
        "id": "YqdxQs83ntxp"
      },
      "source": [
        "**pandas**는 학습 데이터를 관리하고 처리하기에 매우 효율적인 라이브러리입니다."
      ]
    },
    {
      "cell_type": "code",
      "metadata": {
        "scrolled": false,
        "colab": {
          "base_uri": "https://localhost:8080/",
          "height": 363
        },
        "id": "JdKZ8TfVHwvx",
        "outputId": "18d7a8d1-bb57-4e92-e352-5ef6500eaf21"
      },
      "source": [
        "# 데이터를 불러오는 과정입니다. Pandas는 데이터를 처리하기에 매우 효율적인 라이브러리로 생각하시면 됩니다.\n",
        "import pandas as pandas\n",
        "\n",
        "housing = pandas.read_csv(\"housing.csv\")  # Pandas 라이브러리의 read_csv 함수를 통해, Colab 상에 업로드한 housing.csv 파일을 읽습니다.\n",
        "housing.head(10)\n",
        "  # housing data에 처음 10개의 데이터를 출력해서 살펴봅니다."
      ],
      "execution_count": 39,
      "outputs": [
        {
          "output_type": "execute_result",
          "data": {
            "text/plain": [
              "   longitude  latitude  housing_median_age  total_rooms  total_bedrooms  \\\n",
              "0    -122.23     37.88                41.0        880.0           129.0   \n",
              "1    -122.22     37.86                21.0       7099.0          1106.0   \n",
              "2    -122.24     37.85                52.0       1467.0           190.0   \n",
              "3    -122.25     37.85                52.0       1274.0           235.0   \n",
              "4    -122.25     37.85                52.0       1627.0           280.0   \n",
              "5    -122.25     37.85                52.0        919.0           213.0   \n",
              "6    -122.25     37.84                52.0       2535.0           489.0   \n",
              "7    -122.25     37.84                52.0       3104.0           687.0   \n",
              "8    -122.26     37.84                42.0       2555.0           665.0   \n",
              "9    -122.25     37.84                52.0       3549.0           707.0   \n",
              "\n",
              "   population  households  median_income  median_house_value ocean_proximity  \n",
              "0       322.0       126.0         8.3252            452600.0        NEAR BAY  \n",
              "1      2401.0      1138.0         8.3014            358500.0        NEAR BAY  \n",
              "2       496.0       177.0         7.2574            352100.0        NEAR BAY  \n",
              "3       558.0       219.0         5.6431            341300.0        NEAR BAY  \n",
              "4       565.0       259.0         3.8462            342200.0        NEAR BAY  \n",
              "5       413.0       193.0         4.0368            269700.0        NEAR BAY  \n",
              "6      1094.0       514.0         3.6591            299200.0        NEAR BAY  \n",
              "7      1157.0       647.0         3.1200            241400.0        NEAR BAY  \n",
              "8      1206.0       595.0         2.0804            226700.0        NEAR BAY  \n",
              "9      1551.0       714.0         3.6912            261100.0        NEAR BAY  "
            ],
            "text/html": [
              "\n",
              "  <div id=\"df-db8d53bb-6073-4a39-8126-0b18a7f0eec4\">\n",
              "    <div class=\"colab-df-container\">\n",
              "      <div>\n",
              "<style scoped>\n",
              "    .dataframe tbody tr th:only-of-type {\n",
              "        vertical-align: middle;\n",
              "    }\n",
              "\n",
              "    .dataframe tbody tr th {\n",
              "        vertical-align: top;\n",
              "    }\n",
              "\n",
              "    .dataframe thead th {\n",
              "        text-align: right;\n",
              "    }\n",
              "</style>\n",
              "<table border=\"1\" class=\"dataframe\">\n",
              "  <thead>\n",
              "    <tr style=\"text-align: right;\">\n",
              "      <th></th>\n",
              "      <th>longitude</th>\n",
              "      <th>latitude</th>\n",
              "      <th>housing_median_age</th>\n",
              "      <th>total_rooms</th>\n",
              "      <th>total_bedrooms</th>\n",
              "      <th>population</th>\n",
              "      <th>households</th>\n",
              "      <th>median_income</th>\n",
              "      <th>median_house_value</th>\n",
              "      <th>ocean_proximity</th>\n",
              "    </tr>\n",
              "  </thead>\n",
              "  <tbody>\n",
              "    <tr>\n",
              "      <th>0</th>\n",
              "      <td>-122.23</td>\n",
              "      <td>37.88</td>\n",
              "      <td>41.0</td>\n",
              "      <td>880.0</td>\n",
              "      <td>129.0</td>\n",
              "      <td>322.0</td>\n",
              "      <td>126.0</td>\n",
              "      <td>8.3252</td>\n",
              "      <td>452600.0</td>\n",
              "      <td>NEAR BAY</td>\n",
              "    </tr>\n",
              "    <tr>\n",
              "      <th>1</th>\n",
              "      <td>-122.22</td>\n",
              "      <td>37.86</td>\n",
              "      <td>21.0</td>\n",
              "      <td>7099.0</td>\n",
              "      <td>1106.0</td>\n",
              "      <td>2401.0</td>\n",
              "      <td>1138.0</td>\n",
              "      <td>8.3014</td>\n",
              "      <td>358500.0</td>\n",
              "      <td>NEAR BAY</td>\n",
              "    </tr>\n",
              "    <tr>\n",
              "      <th>2</th>\n",
              "      <td>-122.24</td>\n",
              "      <td>37.85</td>\n",
              "      <td>52.0</td>\n",
              "      <td>1467.0</td>\n",
              "      <td>190.0</td>\n",
              "      <td>496.0</td>\n",
              "      <td>177.0</td>\n",
              "      <td>7.2574</td>\n",
              "      <td>352100.0</td>\n",
              "      <td>NEAR BAY</td>\n",
              "    </tr>\n",
              "    <tr>\n",
              "      <th>3</th>\n",
              "      <td>-122.25</td>\n",
              "      <td>37.85</td>\n",
              "      <td>52.0</td>\n",
              "      <td>1274.0</td>\n",
              "      <td>235.0</td>\n",
              "      <td>558.0</td>\n",
              "      <td>219.0</td>\n",
              "      <td>5.6431</td>\n",
              "      <td>341300.0</td>\n",
              "      <td>NEAR BAY</td>\n",
              "    </tr>\n",
              "    <tr>\n",
              "      <th>4</th>\n",
              "      <td>-122.25</td>\n",
              "      <td>37.85</td>\n",
              "      <td>52.0</td>\n",
              "      <td>1627.0</td>\n",
              "      <td>280.0</td>\n",
              "      <td>565.0</td>\n",
              "      <td>259.0</td>\n",
              "      <td>3.8462</td>\n",
              "      <td>342200.0</td>\n",
              "      <td>NEAR BAY</td>\n",
              "    </tr>\n",
              "    <tr>\n",
              "      <th>5</th>\n",
              "      <td>-122.25</td>\n",
              "      <td>37.85</td>\n",
              "      <td>52.0</td>\n",
              "      <td>919.0</td>\n",
              "      <td>213.0</td>\n",
              "      <td>413.0</td>\n",
              "      <td>193.0</td>\n",
              "      <td>4.0368</td>\n",
              "      <td>269700.0</td>\n",
              "      <td>NEAR BAY</td>\n",
              "    </tr>\n",
              "    <tr>\n",
              "      <th>6</th>\n",
              "      <td>-122.25</td>\n",
              "      <td>37.84</td>\n",
              "      <td>52.0</td>\n",
              "      <td>2535.0</td>\n",
              "      <td>489.0</td>\n",
              "      <td>1094.0</td>\n",
              "      <td>514.0</td>\n",
              "      <td>3.6591</td>\n",
              "      <td>299200.0</td>\n",
              "      <td>NEAR BAY</td>\n",
              "    </tr>\n",
              "    <tr>\n",
              "      <th>7</th>\n",
              "      <td>-122.25</td>\n",
              "      <td>37.84</td>\n",
              "      <td>52.0</td>\n",
              "      <td>3104.0</td>\n",
              "      <td>687.0</td>\n",
              "      <td>1157.0</td>\n",
              "      <td>647.0</td>\n",
              "      <td>3.1200</td>\n",
              "      <td>241400.0</td>\n",
              "      <td>NEAR BAY</td>\n",
              "    </tr>\n",
              "    <tr>\n",
              "      <th>8</th>\n",
              "      <td>-122.26</td>\n",
              "      <td>37.84</td>\n",
              "      <td>42.0</td>\n",
              "      <td>2555.0</td>\n",
              "      <td>665.0</td>\n",
              "      <td>1206.0</td>\n",
              "      <td>595.0</td>\n",
              "      <td>2.0804</td>\n",
              "      <td>226700.0</td>\n",
              "      <td>NEAR BAY</td>\n",
              "    </tr>\n",
              "    <tr>\n",
              "      <th>9</th>\n",
              "      <td>-122.25</td>\n",
              "      <td>37.84</td>\n",
              "      <td>52.0</td>\n",
              "      <td>3549.0</td>\n",
              "      <td>707.0</td>\n",
              "      <td>1551.0</td>\n",
              "      <td>714.0</td>\n",
              "      <td>3.6912</td>\n",
              "      <td>261100.0</td>\n",
              "      <td>NEAR BAY</td>\n",
              "    </tr>\n",
              "  </tbody>\n",
              "</table>\n",
              "</div>\n",
              "      <button class=\"colab-df-convert\" onclick=\"convertToInteractive('df-db8d53bb-6073-4a39-8126-0b18a7f0eec4')\"\n",
              "              title=\"Convert this dataframe to an interactive table.\"\n",
              "              style=\"display:none;\">\n",
              "        \n",
              "  <svg xmlns=\"http://www.w3.org/2000/svg\" height=\"24px\"viewBox=\"0 0 24 24\"\n",
              "       width=\"24px\">\n",
              "    <path d=\"M0 0h24v24H0V0z\" fill=\"none\"/>\n",
              "    <path d=\"M18.56 5.44l.94 2.06.94-2.06 2.06-.94-2.06-.94-.94-2.06-.94 2.06-2.06.94zm-11 1L8.5 8.5l.94-2.06 2.06-.94-2.06-.94L8.5 2.5l-.94 2.06-2.06.94zm10 10l.94 2.06.94-2.06 2.06-.94-2.06-.94-.94-2.06-.94 2.06-2.06.94z\"/><path d=\"M17.41 7.96l-1.37-1.37c-.4-.4-.92-.59-1.43-.59-.52 0-1.04.2-1.43.59L10.3 9.45l-7.72 7.72c-.78.78-.78 2.05 0 2.83L4 21.41c.39.39.9.59 1.41.59.51 0 1.02-.2 1.41-.59l7.78-7.78 2.81-2.81c.8-.78.8-2.07 0-2.86zM5.41 20L4 18.59l7.72-7.72 1.47 1.35L5.41 20z\"/>\n",
              "  </svg>\n",
              "      </button>\n",
              "      \n",
              "  <style>\n",
              "    .colab-df-container {\n",
              "      display:flex;\n",
              "      flex-wrap:wrap;\n",
              "      gap: 12px;\n",
              "    }\n",
              "\n",
              "    .colab-df-convert {\n",
              "      background-color: #E8F0FE;\n",
              "      border: none;\n",
              "      border-radius: 50%;\n",
              "      cursor: pointer;\n",
              "      display: none;\n",
              "      fill: #1967D2;\n",
              "      height: 32px;\n",
              "      padding: 0 0 0 0;\n",
              "      width: 32px;\n",
              "    }\n",
              "\n",
              "    .colab-df-convert:hover {\n",
              "      background-color: #E2EBFA;\n",
              "      box-shadow: 0px 1px 2px rgba(60, 64, 67, 0.3), 0px 1px 3px 1px rgba(60, 64, 67, 0.15);\n",
              "      fill: #174EA6;\n",
              "    }\n",
              "\n",
              "    [theme=dark] .colab-df-convert {\n",
              "      background-color: #3B4455;\n",
              "      fill: #D2E3FC;\n",
              "    }\n",
              "\n",
              "    [theme=dark] .colab-df-convert:hover {\n",
              "      background-color: #434B5C;\n",
              "      box-shadow: 0px 1px 3px 1px rgba(0, 0, 0, 0.15);\n",
              "      filter: drop-shadow(0px 1px 2px rgba(0, 0, 0, 0.3));\n",
              "      fill: #FFFFFF;\n",
              "    }\n",
              "  </style>\n",
              "\n",
              "      <script>\n",
              "        const buttonEl =\n",
              "          document.querySelector('#df-db8d53bb-6073-4a39-8126-0b18a7f0eec4 button.colab-df-convert');\n",
              "        buttonEl.style.display =\n",
              "          google.colab.kernel.accessAllowed ? 'block' : 'none';\n",
              "\n",
              "        async function convertToInteractive(key) {\n",
              "          const element = document.querySelector('#df-db8d53bb-6073-4a39-8126-0b18a7f0eec4');\n",
              "          const dataTable =\n",
              "            await google.colab.kernel.invokeFunction('convertToInteractive',\n",
              "                                                     [key], {});\n",
              "          if (!dataTable) return;\n",
              "\n",
              "          const docLinkHtml = 'Like what you see? Visit the ' +\n",
              "            '<a target=\"_blank\" href=https://colab.research.google.com/notebooks/data_table.ipynb>data table notebook</a>'\n",
              "            + ' to learn more about interactive tables.';\n",
              "          element.innerHTML = '';\n",
              "          dataTable['output_type'] = 'display_data';\n",
              "          await google.colab.output.renderOutput(dataTable, element);\n",
              "          const docLink = document.createElement('div');\n",
              "          docLink.innerHTML = docLinkHtml;\n",
              "          element.appendChild(docLink);\n",
              "        }\n",
              "      </script>\n",
              "    </div>\n",
              "  </div>\n",
              "  "
            ]
          },
          "metadata": {},
          "execution_count": 39
        }
      ]
    },
    {
      "cell_type": "markdown",
      "metadata": {
        "id": "nNk37SX-12Oc"
      },
      "source": [
        "# **실습 #1-2: 학습에 들어가기 전 학습 데이터 전처리 과정**"
      ]
    },
    {
      "cell_type": "markdown",
      "metadata": {
        "id": "fAcJtE8M2I3R"
      },
      "source": [
        "정보 중 total_bedrooms은 정보가 없는 데이터도 존재합니다. 따라서, total_bedrooms에 정보가 비어있는 데이터는 median 값으로 채우고자 합니다."
      ]
    },
    {
      "cell_type": "code",
      "metadata": {
        "colab": {
          "base_uri": "https://localhost:8080/"
        },
        "id": "tsgmEqZAHwv5",
        "outputId": "c8d94eae-3890-40e9-8af1-e7411f180248"
      },
      "source": [
        "median = housing[\"total_bedrooms\"].median()\n",
        "housing[\"total_bedrooms\"] = housing[\"total_bedrooms\"].fillna(median)\n",
        "housing.info()"
      ],
      "execution_count": 40,
      "outputs": [
        {
          "output_type": "stream",
          "name": "stdout",
          "text": [
            "<class 'pandas.core.frame.DataFrame'>\n",
            "RangeIndex: 20640 entries, 0 to 20639\n",
            "Data columns (total 10 columns):\n",
            " #   Column              Non-Null Count  Dtype  \n",
            "---  ------              --------------  -----  \n",
            " 0   longitude           20640 non-null  float64\n",
            " 1   latitude            20640 non-null  float64\n",
            " 2   housing_median_age  20640 non-null  float64\n",
            " 3   total_rooms         20640 non-null  float64\n",
            " 4   total_bedrooms      20640 non-null  float64\n",
            " 5   population          20640 non-null  float64\n",
            " 6   households          20640 non-null  float64\n",
            " 7   median_income       20640 non-null  float64\n",
            " 8   median_house_value  20640 non-null  float64\n",
            " 9   ocean_proximity     20640 non-null  object \n",
            "dtypes: float64(9), object(1)\n",
            "memory usage: 1.6+ MB\n"
          ]
        }
      ]
    },
    {
      "cell_type": "markdown",
      "metadata": {
        "id": "X-kMxf7Q2ffs"
      },
      "source": [
        "앞에서 total_rooms와 total_bedrooms 그리고 household가 서로 간에 연관이 매우 큰 것을 확인하였습니다. 학습 위해서 더 의미있는 데이터로 가공할 필요가 있고,\n",
        "\n",
        "- 이를 위해서 total_room는 \"rooms_per_household\"로 바꾸고\n",
        "- total_bedrooms는 \"bedrooms_per_household\"로 바꿉시다."
      ]
    },
    {
      "cell_type": "code",
      "metadata": {
        "colab": {
          "base_uri": "https://localhost:8080/"
        },
        "id": "DWDNR9fW25JR",
        "outputId": "27121781-9923-498a-a98c-bd1ea056ad09"
      },
      "source": [
        "housing[\"bedrooms_per_household\"] = housing[\"total_bedrooms\"] / housing[\"households\"]\n",
        "del housing[\"total_bedrooms\"]\n",
        "housing.info()"
      ],
      "execution_count": 41,
      "outputs": [
        {
          "output_type": "stream",
          "name": "stdout",
          "text": [
            "<class 'pandas.core.frame.DataFrame'>\n",
            "RangeIndex: 20640 entries, 0 to 20639\n",
            "Data columns (total 10 columns):\n",
            " #   Column                  Non-Null Count  Dtype  \n",
            "---  ------                  --------------  -----  \n",
            " 0   longitude               20640 non-null  float64\n",
            " 1   latitude                20640 non-null  float64\n",
            " 2   housing_median_age      20640 non-null  float64\n",
            " 3   total_rooms             20640 non-null  float64\n",
            " 4   population              20640 non-null  float64\n",
            " 5   households              20640 non-null  float64\n",
            " 6   median_income           20640 non-null  float64\n",
            " 7   median_house_value      20640 non-null  float64\n",
            " 8   ocean_proximity         20640 non-null  object \n",
            " 9   bedrooms_per_household  20640 non-null  float64\n",
            "dtypes: float64(9), object(1)\n",
            "memory usage: 1.6+ MB\n"
          ]
        }
      ]
    },
    {
      "cell_type": "markdown",
      "metadata": {
        "id": "8lbeUwKM3Dvk"
      },
      "source": [
        "# **Popup 실습: total_bedrooms 역시 \"bedrooms_per_household\"로 바꿔주세요.**"
      ]
    },
    {
      "cell_type": "code",
      "metadata": {
        "colab": {
          "base_uri": "https://localhost:8080/"
        },
        "id": "pwADQjNO3LRt",
        "outputId": "77034d3f-b472-4d7d-83c3-9400ee618292"
      },
      "source": [
        "housing[\"rooms_per_household\"] = housing[\"total_rooms\"] / housing[\"households\"]\n",
        "del housing[\"total_rooms\"]\n",
        "housing.info()"
      ],
      "execution_count": 42,
      "outputs": [
        {
          "output_type": "stream",
          "name": "stdout",
          "text": [
            "<class 'pandas.core.frame.DataFrame'>\n",
            "RangeIndex: 20640 entries, 0 to 20639\n",
            "Data columns (total 10 columns):\n",
            " #   Column                  Non-Null Count  Dtype  \n",
            "---  ------                  --------------  -----  \n",
            " 0   longitude               20640 non-null  float64\n",
            " 1   latitude                20640 non-null  float64\n",
            " 2   housing_median_age      20640 non-null  float64\n",
            " 3   population              20640 non-null  float64\n",
            " 4   households              20640 non-null  float64\n",
            " 5   median_income           20640 non-null  float64\n",
            " 6   median_house_value      20640 non-null  float64\n",
            " 7   ocean_proximity         20640 non-null  object \n",
            " 8   bedrooms_per_household  20640 non-null  float64\n",
            " 9   rooms_per_household     20640 non-null  float64\n",
            "dtypes: float64(9), object(1)\n",
            "memory usage: 1.6+ MB\n"
          ]
        }
      ]
    },
    {
      "cell_type": "markdown",
      "metadata": {
        "id": "7SRhb06l3qW5"
      },
      "source": [
        "학습 데이터의 정보 값들을 적절한 크기의 값으로 정규화 해줘야합니다.\n",
        "\n",
        "**sklearn**이라는 매우 유용한 학습 라이브러리를 활용합니다."
      ]
    },
    {
      "cell_type": "code",
      "metadata": {
        "scrolled": true,
        "colab": {
          "base_uri": "https://localhost:8080/",
          "height": 206
        },
        "id": "wE0kbo7tHwv6",
        "outputId": "e474f427-551e-4bb3-b720-090c29f86bbc"
      },
      "source": [
        "from sklearn.preprocessing import StandardScaler\n",
        "scaler = StandardScaler()\n",
        "\n",
        "col_list = list(housing)\n",
        "col_list.remove(\"ocean_proximity\") # text type\n",
        "col_list.remove(\"median_house_value\") # target variable needs not to be scaled\n",
        "\n",
        "# generate a new dataframe that consist of numeric type only\n",
        "housing_numeric = housing[col_list]\n",
        "housing_scaled = scaler.fit_transform(housing_numeric)\n",
        "\n",
        "# Data type conversion from 'Series' to 'DataFrame'\n",
        "\n",
        "housing_scaled_df = pandas.DataFrame(housing_scaled, index=housing_numeric.index, columns=housing_numeric.columns)\n",
        "\n",
        "# Concatenate \n",
        "housing = pandas.concat([housing_scaled_df, housing[\"median_house_value\"], housing[\"ocean_proximity\"]], axis=1)\n",
        "housing.head()"
      ],
      "execution_count": 43,
      "outputs": [
        {
          "output_type": "execute_result",
          "data": {
            "text/plain": [
              "   longitude  latitude  housing_median_age  population  households  \\\n",
              "0  -1.327835  1.052548            0.982143   -0.974429   -0.977033   \n",
              "1  -1.322844  1.043185           -0.607019    0.861439    1.669961   \n",
              "2  -1.332827  1.038503            1.856182   -0.820777   -0.843637   \n",
              "3  -1.337818  1.038503            1.856182   -0.766028   -0.733781   \n",
              "4  -1.337818  1.038503            1.856182   -0.759847   -0.629157   \n",
              "\n",
              "   median_income  bedrooms_per_household  rooms_per_household  \\\n",
              "0       2.344766               -0.148514             0.628559   \n",
              "1       2.332238               -0.248542             0.327041   \n",
              "2       1.782699               -0.052902             1.155620   \n",
              "3       0.932968               -0.053647             0.156966   \n",
              "4      -0.012881               -0.038196             0.344711   \n",
              "\n",
              "   median_house_value ocean_proximity  \n",
              "0            452600.0        NEAR BAY  \n",
              "1            358500.0        NEAR BAY  \n",
              "2            352100.0        NEAR BAY  \n",
              "3            341300.0        NEAR BAY  \n",
              "4            342200.0        NEAR BAY  "
            ],
            "text/html": [
              "\n",
              "  <div id=\"df-71c7edab-4fe6-499c-b866-9fe01e4f7ed9\">\n",
              "    <div class=\"colab-df-container\">\n",
              "      <div>\n",
              "<style scoped>\n",
              "    .dataframe tbody tr th:only-of-type {\n",
              "        vertical-align: middle;\n",
              "    }\n",
              "\n",
              "    .dataframe tbody tr th {\n",
              "        vertical-align: top;\n",
              "    }\n",
              "\n",
              "    .dataframe thead th {\n",
              "        text-align: right;\n",
              "    }\n",
              "</style>\n",
              "<table border=\"1\" class=\"dataframe\">\n",
              "  <thead>\n",
              "    <tr style=\"text-align: right;\">\n",
              "      <th></th>\n",
              "      <th>longitude</th>\n",
              "      <th>latitude</th>\n",
              "      <th>housing_median_age</th>\n",
              "      <th>population</th>\n",
              "      <th>households</th>\n",
              "      <th>median_income</th>\n",
              "      <th>bedrooms_per_household</th>\n",
              "      <th>rooms_per_household</th>\n",
              "      <th>median_house_value</th>\n",
              "      <th>ocean_proximity</th>\n",
              "    </tr>\n",
              "  </thead>\n",
              "  <tbody>\n",
              "    <tr>\n",
              "      <th>0</th>\n",
              "      <td>-1.327835</td>\n",
              "      <td>1.052548</td>\n",
              "      <td>0.982143</td>\n",
              "      <td>-0.974429</td>\n",
              "      <td>-0.977033</td>\n",
              "      <td>2.344766</td>\n",
              "      <td>-0.148514</td>\n",
              "      <td>0.628559</td>\n",
              "      <td>452600.0</td>\n",
              "      <td>NEAR BAY</td>\n",
              "    </tr>\n",
              "    <tr>\n",
              "      <th>1</th>\n",
              "      <td>-1.322844</td>\n",
              "      <td>1.043185</td>\n",
              "      <td>-0.607019</td>\n",
              "      <td>0.861439</td>\n",
              "      <td>1.669961</td>\n",
              "      <td>2.332238</td>\n",
              "      <td>-0.248542</td>\n",
              "      <td>0.327041</td>\n",
              "      <td>358500.0</td>\n",
              "      <td>NEAR BAY</td>\n",
              "    </tr>\n",
              "    <tr>\n",
              "      <th>2</th>\n",
              "      <td>-1.332827</td>\n",
              "      <td>1.038503</td>\n",
              "      <td>1.856182</td>\n",
              "      <td>-0.820777</td>\n",
              "      <td>-0.843637</td>\n",
              "      <td>1.782699</td>\n",
              "      <td>-0.052902</td>\n",
              "      <td>1.155620</td>\n",
              "      <td>352100.0</td>\n",
              "      <td>NEAR BAY</td>\n",
              "    </tr>\n",
              "    <tr>\n",
              "      <th>3</th>\n",
              "      <td>-1.337818</td>\n",
              "      <td>1.038503</td>\n",
              "      <td>1.856182</td>\n",
              "      <td>-0.766028</td>\n",
              "      <td>-0.733781</td>\n",
              "      <td>0.932968</td>\n",
              "      <td>-0.053647</td>\n",
              "      <td>0.156966</td>\n",
              "      <td>341300.0</td>\n",
              "      <td>NEAR BAY</td>\n",
              "    </tr>\n",
              "    <tr>\n",
              "      <th>4</th>\n",
              "      <td>-1.337818</td>\n",
              "      <td>1.038503</td>\n",
              "      <td>1.856182</td>\n",
              "      <td>-0.759847</td>\n",
              "      <td>-0.629157</td>\n",
              "      <td>-0.012881</td>\n",
              "      <td>-0.038196</td>\n",
              "      <td>0.344711</td>\n",
              "      <td>342200.0</td>\n",
              "      <td>NEAR BAY</td>\n",
              "    </tr>\n",
              "  </tbody>\n",
              "</table>\n",
              "</div>\n",
              "      <button class=\"colab-df-convert\" onclick=\"convertToInteractive('df-71c7edab-4fe6-499c-b866-9fe01e4f7ed9')\"\n",
              "              title=\"Convert this dataframe to an interactive table.\"\n",
              "              style=\"display:none;\">\n",
              "        \n",
              "  <svg xmlns=\"http://www.w3.org/2000/svg\" height=\"24px\"viewBox=\"0 0 24 24\"\n",
              "       width=\"24px\">\n",
              "    <path d=\"M0 0h24v24H0V0z\" fill=\"none\"/>\n",
              "    <path d=\"M18.56 5.44l.94 2.06.94-2.06 2.06-.94-2.06-.94-.94-2.06-.94 2.06-2.06.94zm-11 1L8.5 8.5l.94-2.06 2.06-.94-2.06-.94L8.5 2.5l-.94 2.06-2.06.94zm10 10l.94 2.06.94-2.06 2.06-.94-2.06-.94-.94-2.06-.94 2.06-2.06.94z\"/><path d=\"M17.41 7.96l-1.37-1.37c-.4-.4-.92-.59-1.43-.59-.52 0-1.04.2-1.43.59L10.3 9.45l-7.72 7.72c-.78.78-.78 2.05 0 2.83L4 21.41c.39.39.9.59 1.41.59.51 0 1.02-.2 1.41-.59l7.78-7.78 2.81-2.81c.8-.78.8-2.07 0-2.86zM5.41 20L4 18.59l7.72-7.72 1.47 1.35L5.41 20z\"/>\n",
              "  </svg>\n",
              "      </button>\n",
              "      \n",
              "  <style>\n",
              "    .colab-df-container {\n",
              "      display:flex;\n",
              "      flex-wrap:wrap;\n",
              "      gap: 12px;\n",
              "    }\n",
              "\n",
              "    .colab-df-convert {\n",
              "      background-color: #E8F0FE;\n",
              "      border: none;\n",
              "      border-radius: 50%;\n",
              "      cursor: pointer;\n",
              "      display: none;\n",
              "      fill: #1967D2;\n",
              "      height: 32px;\n",
              "      padding: 0 0 0 0;\n",
              "      width: 32px;\n",
              "    }\n",
              "\n",
              "    .colab-df-convert:hover {\n",
              "      background-color: #E2EBFA;\n",
              "      box-shadow: 0px 1px 2px rgba(60, 64, 67, 0.3), 0px 1px 3px 1px rgba(60, 64, 67, 0.15);\n",
              "      fill: #174EA6;\n",
              "    }\n",
              "\n",
              "    [theme=dark] .colab-df-convert {\n",
              "      background-color: #3B4455;\n",
              "      fill: #D2E3FC;\n",
              "    }\n",
              "\n",
              "    [theme=dark] .colab-df-convert:hover {\n",
              "      background-color: #434B5C;\n",
              "      box-shadow: 0px 1px 3px 1px rgba(0, 0, 0, 0.15);\n",
              "      filter: drop-shadow(0px 1px 2px rgba(0, 0, 0, 0.3));\n",
              "      fill: #FFFFFF;\n",
              "    }\n",
              "  </style>\n",
              "\n",
              "      <script>\n",
              "        const buttonEl =\n",
              "          document.querySelector('#df-71c7edab-4fe6-499c-b866-9fe01e4f7ed9 button.colab-df-convert');\n",
              "        buttonEl.style.display =\n",
              "          google.colab.kernel.accessAllowed ? 'block' : 'none';\n",
              "\n",
              "        async function convertToInteractive(key) {\n",
              "          const element = document.querySelector('#df-71c7edab-4fe6-499c-b866-9fe01e4f7ed9');\n",
              "          const dataTable =\n",
              "            await google.colab.kernel.invokeFunction('convertToInteractive',\n",
              "                                                     [key], {});\n",
              "          if (!dataTable) return;\n",
              "\n",
              "          const docLinkHtml = 'Like what you see? Visit the ' +\n",
              "            '<a target=\"_blank\" href=https://colab.research.google.com/notebooks/data_table.ipynb>data table notebook</a>'\n",
              "            + ' to learn more about interactive tables.';\n",
              "          element.innerHTML = '';\n",
              "          dataTable['output_type'] = 'display_data';\n",
              "          await google.colab.output.renderOutput(dataTable, element);\n",
              "          const docLink = document.createElement('div');\n",
              "          docLink.innerHTML = docLinkHtml;\n",
              "          element.appendChild(docLink);\n",
              "        }\n",
              "      </script>\n",
              "    </div>\n",
              "  </div>\n",
              "  "
            ]
          },
          "metadata": {},
          "execution_count": 43
        }
      ]
    },
    {
      "cell_type": "markdown",
      "metadata": {
        "id": "v9fG9zfU4a_A"
      },
      "source": [
        "텍스트로 이루어진 \"ocean_proximity\" 값 또한 숫자로 변형해줍니다."
      ]
    },
    {
      "cell_type": "code",
      "metadata": {
        "colab": {
          "base_uri": "https://localhost:8080/",
          "height": 444
        },
        "id": "qlX55_MLHwv6",
        "outputId": "e52178bf-3773-4efe-ae3f-835fe90ab95a"
      },
      "source": [
        "# One-hot encoding\n",
        "housing = pandas.get_dummies(housing)\n",
        "housing.head(10)"
      ],
      "execution_count": 44,
      "outputs": [
        {
          "output_type": "execute_result",
          "data": {
            "text/plain": [
              "   longitude  latitude  housing_median_age  population  households  \\\n",
              "0  -1.327835  1.052548            0.982143   -0.974429   -0.977033   \n",
              "1  -1.322844  1.043185           -0.607019    0.861439    1.669961   \n",
              "2  -1.332827  1.038503            1.856182   -0.820777   -0.843637   \n",
              "3  -1.337818  1.038503            1.856182   -0.766028   -0.733781   \n",
              "4  -1.337818  1.038503            1.856182   -0.759847   -0.629157   \n",
              "5  -1.337818  1.038503            1.856182   -0.894071   -0.801787   \n",
              "6  -1.337818  1.033821            1.856182   -0.292712    0.037823   \n",
              "7  -1.337818  1.033821            1.856182   -0.237079    0.385698   \n",
              "8  -1.342809  1.033821            1.061601   -0.193810    0.249687   \n",
              "9  -1.337818  1.033821            1.856182    0.110844    0.560944   \n",
              "\n",
              "   median_income  bedrooms_per_household  rooms_per_household  \\\n",
              "0       2.344766               -0.148514             0.628559   \n",
              "1       2.332238               -0.248542             0.327041   \n",
              "2       1.782699               -0.052902             1.155620   \n",
              "3       0.932968               -0.053647             0.156966   \n",
              "4      -0.012881               -0.038196             0.344711   \n",
              "5       0.087447                0.005233            -0.269730   \n",
              "6      -0.111366               -0.288066            -0.200918   \n",
              "7      -0.395137               -0.075290            -0.255232   \n",
              "8      -0.942359                0.032239            -0.458703   \n",
              "9      -0.094470               -0.213262            -0.185283   \n",
              "\n",
              "   median_house_value  ocean_proximity_<1H OCEAN  ocean_proximity_INLAND  \\\n",
              "0            452600.0                          0                       0   \n",
              "1            358500.0                          0                       0   \n",
              "2            352100.0                          0                       0   \n",
              "3            341300.0                          0                       0   \n",
              "4            342200.0                          0                       0   \n",
              "5            269700.0                          0                       0   \n",
              "6            299200.0                          0                       0   \n",
              "7            241400.0                          0                       0   \n",
              "8            226700.0                          0                       0   \n",
              "9            261100.0                          0                       0   \n",
              "\n",
              "   ocean_proximity_ISLAND  ocean_proximity_NEAR BAY  \\\n",
              "0                       0                         1   \n",
              "1                       0                         1   \n",
              "2                       0                         1   \n",
              "3                       0                         1   \n",
              "4                       0                         1   \n",
              "5                       0                         1   \n",
              "6                       0                         1   \n",
              "7                       0                         1   \n",
              "8                       0                         1   \n",
              "9                       0                         1   \n",
              "\n",
              "   ocean_proximity_NEAR OCEAN  \n",
              "0                           0  \n",
              "1                           0  \n",
              "2                           0  \n",
              "3                           0  \n",
              "4                           0  \n",
              "5                           0  \n",
              "6                           0  \n",
              "7                           0  \n",
              "8                           0  \n",
              "9                           0  "
            ],
            "text/html": [
              "\n",
              "  <div id=\"df-a800d2b5-8065-4fc3-aaf8-1a7014e1a876\">\n",
              "    <div class=\"colab-df-container\">\n",
              "      <div>\n",
              "<style scoped>\n",
              "    .dataframe tbody tr th:only-of-type {\n",
              "        vertical-align: middle;\n",
              "    }\n",
              "\n",
              "    .dataframe tbody tr th {\n",
              "        vertical-align: top;\n",
              "    }\n",
              "\n",
              "    .dataframe thead th {\n",
              "        text-align: right;\n",
              "    }\n",
              "</style>\n",
              "<table border=\"1\" class=\"dataframe\">\n",
              "  <thead>\n",
              "    <tr style=\"text-align: right;\">\n",
              "      <th></th>\n",
              "      <th>longitude</th>\n",
              "      <th>latitude</th>\n",
              "      <th>housing_median_age</th>\n",
              "      <th>population</th>\n",
              "      <th>households</th>\n",
              "      <th>median_income</th>\n",
              "      <th>bedrooms_per_household</th>\n",
              "      <th>rooms_per_household</th>\n",
              "      <th>median_house_value</th>\n",
              "      <th>ocean_proximity_&lt;1H OCEAN</th>\n",
              "      <th>ocean_proximity_INLAND</th>\n",
              "      <th>ocean_proximity_ISLAND</th>\n",
              "      <th>ocean_proximity_NEAR BAY</th>\n",
              "      <th>ocean_proximity_NEAR OCEAN</th>\n",
              "    </tr>\n",
              "  </thead>\n",
              "  <tbody>\n",
              "    <tr>\n",
              "      <th>0</th>\n",
              "      <td>-1.327835</td>\n",
              "      <td>1.052548</td>\n",
              "      <td>0.982143</td>\n",
              "      <td>-0.974429</td>\n",
              "      <td>-0.977033</td>\n",
              "      <td>2.344766</td>\n",
              "      <td>-0.148514</td>\n",
              "      <td>0.628559</td>\n",
              "      <td>452600.0</td>\n",
              "      <td>0</td>\n",
              "      <td>0</td>\n",
              "      <td>0</td>\n",
              "      <td>1</td>\n",
              "      <td>0</td>\n",
              "    </tr>\n",
              "    <tr>\n",
              "      <th>1</th>\n",
              "      <td>-1.322844</td>\n",
              "      <td>1.043185</td>\n",
              "      <td>-0.607019</td>\n",
              "      <td>0.861439</td>\n",
              "      <td>1.669961</td>\n",
              "      <td>2.332238</td>\n",
              "      <td>-0.248542</td>\n",
              "      <td>0.327041</td>\n",
              "      <td>358500.0</td>\n",
              "      <td>0</td>\n",
              "      <td>0</td>\n",
              "      <td>0</td>\n",
              "      <td>1</td>\n",
              "      <td>0</td>\n",
              "    </tr>\n",
              "    <tr>\n",
              "      <th>2</th>\n",
              "      <td>-1.332827</td>\n",
              "      <td>1.038503</td>\n",
              "      <td>1.856182</td>\n",
              "      <td>-0.820777</td>\n",
              "      <td>-0.843637</td>\n",
              "      <td>1.782699</td>\n",
              "      <td>-0.052902</td>\n",
              "      <td>1.155620</td>\n",
              "      <td>352100.0</td>\n",
              "      <td>0</td>\n",
              "      <td>0</td>\n",
              "      <td>0</td>\n",
              "      <td>1</td>\n",
              "      <td>0</td>\n",
              "    </tr>\n",
              "    <tr>\n",
              "      <th>3</th>\n",
              "      <td>-1.337818</td>\n",
              "      <td>1.038503</td>\n",
              "      <td>1.856182</td>\n",
              "      <td>-0.766028</td>\n",
              "      <td>-0.733781</td>\n",
              "      <td>0.932968</td>\n",
              "      <td>-0.053647</td>\n",
              "      <td>0.156966</td>\n",
              "      <td>341300.0</td>\n",
              "      <td>0</td>\n",
              "      <td>0</td>\n",
              "      <td>0</td>\n",
              "      <td>1</td>\n",
              "      <td>0</td>\n",
              "    </tr>\n",
              "    <tr>\n",
              "      <th>4</th>\n",
              "      <td>-1.337818</td>\n",
              "      <td>1.038503</td>\n",
              "      <td>1.856182</td>\n",
              "      <td>-0.759847</td>\n",
              "      <td>-0.629157</td>\n",
              "      <td>-0.012881</td>\n",
              "      <td>-0.038196</td>\n",
              "      <td>0.344711</td>\n",
              "      <td>342200.0</td>\n",
              "      <td>0</td>\n",
              "      <td>0</td>\n",
              "      <td>0</td>\n",
              "      <td>1</td>\n",
              "      <td>0</td>\n",
              "    </tr>\n",
              "    <tr>\n",
              "      <th>5</th>\n",
              "      <td>-1.337818</td>\n",
              "      <td>1.038503</td>\n",
              "      <td>1.856182</td>\n",
              "      <td>-0.894071</td>\n",
              "      <td>-0.801787</td>\n",
              "      <td>0.087447</td>\n",
              "      <td>0.005233</td>\n",
              "      <td>-0.269730</td>\n",
              "      <td>269700.0</td>\n",
              "      <td>0</td>\n",
              "      <td>0</td>\n",
              "      <td>0</td>\n",
              "      <td>1</td>\n",
              "      <td>0</td>\n",
              "    </tr>\n",
              "    <tr>\n",
              "      <th>6</th>\n",
              "      <td>-1.337818</td>\n",
              "      <td>1.033821</td>\n",
              "      <td>1.856182</td>\n",
              "      <td>-0.292712</td>\n",
              "      <td>0.037823</td>\n",
              "      <td>-0.111366</td>\n",
              "      <td>-0.288066</td>\n",
              "      <td>-0.200918</td>\n",
              "      <td>299200.0</td>\n",
              "      <td>0</td>\n",
              "      <td>0</td>\n",
              "      <td>0</td>\n",
              "      <td>1</td>\n",
              "      <td>0</td>\n",
              "    </tr>\n",
              "    <tr>\n",
              "      <th>7</th>\n",
              "      <td>-1.337818</td>\n",
              "      <td>1.033821</td>\n",
              "      <td>1.856182</td>\n",
              "      <td>-0.237079</td>\n",
              "      <td>0.385698</td>\n",
              "      <td>-0.395137</td>\n",
              "      <td>-0.075290</td>\n",
              "      <td>-0.255232</td>\n",
              "      <td>241400.0</td>\n",
              "      <td>0</td>\n",
              "      <td>0</td>\n",
              "      <td>0</td>\n",
              "      <td>1</td>\n",
              "      <td>0</td>\n",
              "    </tr>\n",
              "    <tr>\n",
              "      <th>8</th>\n",
              "      <td>-1.342809</td>\n",
              "      <td>1.033821</td>\n",
              "      <td>1.061601</td>\n",
              "      <td>-0.193810</td>\n",
              "      <td>0.249687</td>\n",
              "      <td>-0.942359</td>\n",
              "      <td>0.032239</td>\n",
              "      <td>-0.458703</td>\n",
              "      <td>226700.0</td>\n",
              "      <td>0</td>\n",
              "      <td>0</td>\n",
              "      <td>0</td>\n",
              "      <td>1</td>\n",
              "      <td>0</td>\n",
              "    </tr>\n",
              "    <tr>\n",
              "      <th>9</th>\n",
              "      <td>-1.337818</td>\n",
              "      <td>1.033821</td>\n",
              "      <td>1.856182</td>\n",
              "      <td>0.110844</td>\n",
              "      <td>0.560944</td>\n",
              "      <td>-0.094470</td>\n",
              "      <td>-0.213262</td>\n",
              "      <td>-0.185283</td>\n",
              "      <td>261100.0</td>\n",
              "      <td>0</td>\n",
              "      <td>0</td>\n",
              "      <td>0</td>\n",
              "      <td>1</td>\n",
              "      <td>0</td>\n",
              "    </tr>\n",
              "  </tbody>\n",
              "</table>\n",
              "</div>\n",
              "      <button class=\"colab-df-convert\" onclick=\"convertToInteractive('df-a800d2b5-8065-4fc3-aaf8-1a7014e1a876')\"\n",
              "              title=\"Convert this dataframe to an interactive table.\"\n",
              "              style=\"display:none;\">\n",
              "        \n",
              "  <svg xmlns=\"http://www.w3.org/2000/svg\" height=\"24px\"viewBox=\"0 0 24 24\"\n",
              "       width=\"24px\">\n",
              "    <path d=\"M0 0h24v24H0V0z\" fill=\"none\"/>\n",
              "    <path d=\"M18.56 5.44l.94 2.06.94-2.06 2.06-.94-2.06-.94-.94-2.06-.94 2.06-2.06.94zm-11 1L8.5 8.5l.94-2.06 2.06-.94-2.06-.94L8.5 2.5l-.94 2.06-2.06.94zm10 10l.94 2.06.94-2.06 2.06-.94-2.06-.94-.94-2.06-.94 2.06-2.06.94z\"/><path d=\"M17.41 7.96l-1.37-1.37c-.4-.4-.92-.59-1.43-.59-.52 0-1.04.2-1.43.59L10.3 9.45l-7.72 7.72c-.78.78-.78 2.05 0 2.83L4 21.41c.39.39.9.59 1.41.59.51 0 1.02-.2 1.41-.59l7.78-7.78 2.81-2.81c.8-.78.8-2.07 0-2.86zM5.41 20L4 18.59l7.72-7.72 1.47 1.35L5.41 20z\"/>\n",
              "  </svg>\n",
              "      </button>\n",
              "      \n",
              "  <style>\n",
              "    .colab-df-container {\n",
              "      display:flex;\n",
              "      flex-wrap:wrap;\n",
              "      gap: 12px;\n",
              "    }\n",
              "\n",
              "    .colab-df-convert {\n",
              "      background-color: #E8F0FE;\n",
              "      border: none;\n",
              "      border-radius: 50%;\n",
              "      cursor: pointer;\n",
              "      display: none;\n",
              "      fill: #1967D2;\n",
              "      height: 32px;\n",
              "      padding: 0 0 0 0;\n",
              "      width: 32px;\n",
              "    }\n",
              "\n",
              "    .colab-df-convert:hover {\n",
              "      background-color: #E2EBFA;\n",
              "      box-shadow: 0px 1px 2px rgba(60, 64, 67, 0.3), 0px 1px 3px 1px rgba(60, 64, 67, 0.15);\n",
              "      fill: #174EA6;\n",
              "    }\n",
              "\n",
              "    [theme=dark] .colab-df-convert {\n",
              "      background-color: #3B4455;\n",
              "      fill: #D2E3FC;\n",
              "    }\n",
              "\n",
              "    [theme=dark] .colab-df-convert:hover {\n",
              "      background-color: #434B5C;\n",
              "      box-shadow: 0px 1px 3px 1px rgba(0, 0, 0, 0.15);\n",
              "      filter: drop-shadow(0px 1px 2px rgba(0, 0, 0, 0.3));\n",
              "      fill: #FFFFFF;\n",
              "    }\n",
              "  </style>\n",
              "\n",
              "      <script>\n",
              "        const buttonEl =\n",
              "          document.querySelector('#df-a800d2b5-8065-4fc3-aaf8-1a7014e1a876 button.colab-df-convert');\n",
              "        buttonEl.style.display =\n",
              "          google.colab.kernel.accessAllowed ? 'block' : 'none';\n",
              "\n",
              "        async function convertToInteractive(key) {\n",
              "          const element = document.querySelector('#df-a800d2b5-8065-4fc3-aaf8-1a7014e1a876');\n",
              "          const dataTable =\n",
              "            await google.colab.kernel.invokeFunction('convertToInteractive',\n",
              "                                                     [key], {});\n",
              "          if (!dataTable) return;\n",
              "\n",
              "          const docLinkHtml = 'Like what you see? Visit the ' +\n",
              "            '<a target=\"_blank\" href=https://colab.research.google.com/notebooks/data_table.ipynb>data table notebook</a>'\n",
              "            + ' to learn more about interactive tables.';\n",
              "          element.innerHTML = '';\n",
              "          dataTable['output_type'] = 'display_data';\n",
              "          await google.colab.output.renderOutput(dataTable, element);\n",
              "          const docLink = document.createElement('div');\n",
              "          docLink.innerHTML = docLinkHtml;\n",
              "          element.appendChild(docLink);\n",
              "        }\n",
              "      </script>\n",
              "    </div>\n",
              "  </div>\n",
              "  "
            ]
          },
          "metadata": {},
          "execution_count": 44
        }
      ]
    },
    {
      "cell_type": "markdown",
      "metadata": {
        "id": "kYPha2n64xPb"
      },
      "source": [
        "# **실습 #1-3: 전체 데이터를 학습/테스트 데이터로 나누고, feature 그리고 target 정보로 나눠야 합니다.**"
      ]
    },
    {
      "cell_type": "markdown",
      "metadata": {
        "id": "GOn77nNF5Ne2"
      },
      "source": [
        "**sklearn** 학습 라이브러리 안의 함수를 활용하여 데이터를 학습/테스트로 나눕니다."
      ]
    },
    {
      "cell_type": "code",
      "metadata": {
        "colab": {
          "base_uri": "https://localhost:8080/"
        },
        "id": "-7z0i_evHwv7",
        "outputId": "7792c280-de7b-4cda-f27e-1e1d8f6db875"
      },
      "source": [
        "# training - test seperation\n",
        "from sklearn.model_selection import train_test_split\n",
        "\n",
        "train_set, test_set = train_test_split(housing, test_size=0.2, random_state=42)\n",
        "\n",
        "print(\"number of train_se: \", train_set.shape[0])\n",
        "print(\"number of test_set: \", test_set.shape[0])"
      ],
      "execution_count": 45,
      "outputs": [
        {
          "output_type": "stream",
          "name": "stdout",
          "text": [
            "number of train_se:  16512\n",
            "number of test_set:  4128\n"
          ]
        }
      ]
    },
    {
      "cell_type": "markdown",
      "metadata": {
        "id": "ciFcE23_5XGm"
      },
      "source": [
        "간단한 drop 함수 그리고 copy 함수를 사용하여 feature (학습에 사용되는 정보) 그리고 target (학습해서 맞춰야하는 정보)로 나눕니다."
      ]
    },
    {
      "cell_type": "code",
      "metadata": {
        "id": "YQNF1gjCHwv7"
      },
      "source": [
        "# feature and label seperation of training set\n",
        "train_set_features = train_set.drop(\"median_house_value\", axis=1)\n",
        "train_set_target = train_set[\"median_house_value\"].copy(0)"
      ],
      "execution_count": 47,
      "outputs": []
    },
    {
      "cell_type": "markdown",
      "metadata": {
        "id": "joM8ZAewz1VA"
      },
      "source": [
        "# **실습 #1-4: 전처리가 끝난 학습 데이터를 바탕으로 scikit-learn 라이브러리를 통해 집값 예측 선형 회귀 모델을 학습해봅시다.**"
      ]
    },
    {
      "cell_type": "code",
      "metadata": {
        "id": "fmaiLPBYnWVo",
        "colab": {
          "base_uri": "https://localhost:8080/"
        },
        "outputId": "b33cf593-bed7-4779-fdd0-ed582e5e080b"
      },
      "source": [
        "# Part 1-1: Build Linear Regression Model by utilizing scikit-learn built-in fuctnion \"LinearRegression\"\n",
        "from sklearn.linear_model import LinearRegression\n",
        "from sklearn.metrics import mean_squared_error\n",
        "from sklearn.metrics import r2_score\n",
        "import numpy as np\n",
        "\n",
        "# generate model by using training set\n",
        "lin_reg = LinearRegression()\n",
        "lin_reg.fit(train_set_features, train_set_target)\n",
        "print(\"Learned Parameters: \")\n",
        "print(lin_reg.coef_) # Printing the learned weights of linear regression model\n",
        "print(lin_reg.intercept_) # Printing the bias (intercept) of linear regression model\n",
        "\n",
        "print(\"Train_score: \", lin_reg.score(train_set_features, train_set_target))\n",
        "\n",
        "# Feature and target value Seperation of the test set\n",
        "test_set_features = test_set.drop(\"median_house_value\", axis=1) # drop 'median_house_value\" from test_set\n",
        "test_set_target = test_set[\"median_house_value\"].copy(0) # only containing 'median_house_value\" from test_set\n",
        "\n",
        "# target value predicted from our model\n",
        "final_model = lin_reg\n",
        "final_prediction = final_model.predict(test_set_features)\n",
        "print(\"Test score: \", r2_score(test_set_target, final_prediction))\n",
        "\n",
        "# RMSE\n",
        "final_mse = mean_squared_error(test_set_target, final_prediction)\n",
        "final_rmse = np.sqrt(final_mse)\n",
        "print(\"RMSE is: \", final_rmse)  # Square root of the Sum of Squared Errors\n",
        "\n"
      ],
      "execution_count": 49,
      "outputs": [
        {
          "output_type": "stream",
          "name": "stdout",
          "text": [
            "Learned Parameters: \n",
            "[-55492.054378   -56494.62911219  13826.45404021 -45409.43273728\n",
            "  50658.0358886   78045.15239785  24247.66346749 -15026.80798829\n",
            " -18695.71364517 -55643.362724   113587.05147586 -23694.92293851\n",
            " -15553.05216819]\n",
            "237503.84312194958\n",
            "Train_score:  0.6522358826608095\n",
            "Test score:  0.5764999533169753\n",
            "RMSE is:  74495.52090286206\n"
          ]
        }
      ]
    },
    {
      "cell_type": "code",
      "metadata": {
        "id": "z3nMTbK-4GzP"
      },
      "source": [
        "# Part 1-2: Predict the median_house_value for given test sample\n",
        "\n",
        "# Do not use 'predict' function. Utilize matrix multiplication: prediction = weights * features + intercept\n",
        "            # take the given input as a numpy array\n",
        "          # take the given input as a numpy array\n",
        "         # Just write the code corresponds to \" = weights * features + intercept\"\n",
        "         # Just write the code corresponds to \" = weights * features + intercept\"\n",
        "\n",
        "\n",
        "# The real median_house_values are:\n"
      ],
      "execution_count": 50,
      "outputs": []
    },
    {
      "cell_type": "markdown",
      "metadata": {
        "id": "3dUSoWE1SSw5"
      },
      "source": [
        "# **실습 #1-5: 전처리가 끝난 학습 데이터를 바탕으로 scikit-learn 라이브러리를 통해 집값 예측 정규화 Ridge 회귀 모델을 학습해봅시다.**"
      ]
    },
    {
      "cell_type": "markdown",
      "metadata": {
        "id": "OsuAw7g0SSw3"
      },
      "source": [
        "## 4. Ridge Regression - Lab Activity #3 for this week (2020-10-07)\n",
        "__scikit-learn__ provides *Ridge* function"
      ]
    },
    {
      "cell_type": "code",
      "metadata": {
        "id": "Yr1Uz35cBVvp",
        "colab": {
          "base_uri": "https://localhost:8080/"
        },
        "outputId": "d7b24428-5abb-46d9-aed4-a4b4c60d3bf6"
      },
      "source": [
        "from pyparsing.helpers import alphas\n",
        "from sklearn.linear_model import Ridge\n",
        "from sklearn.metrics import mean_squared_error\n",
        "\n",
        "# ridge regression\n",
        "model_ridge = Ridge(alpha=100) # alpha means the costant coefficient for regularization term         \n",
        "model_ridge.fit(train_set_features, train_set_target) # train ridge regression with train_set_features and train_set_traget\n",
        "\n",
        "print(\"Train_score: \", model_ridge.score(train_set_features, train_set_target))\n",
        "                       \n",
        "# ridge RMSE\n",
        "final_prediction = model_ridge.predict(test_set_features)\n",
        "final_ridge_mse = mean_squared_error(test_set_target, final_prediction)\n",
        "final_ridge_rmse = np.sqrt(final_ridge_mse)\n",
        "print(\"RMSE is: \", final_ridge_rmse)\n",
        "\n",
        "\n",
        "# command to hide the warning box\n"
      ],
      "execution_count": 52,
      "outputs": [
        {
          "output_type": "stream",
          "name": "stdout",
          "text": [
            "Train_score:  0.6514336855069291\n",
            "RMSE is:  73665.80731174634\n"
          ]
        }
      ]
    },
    {
      "cell_type": "markdown",
      "metadata": {
        "id": "JvNCtIUPQJk4"
      },
      "source": [
        "# **실습 #1-6: 전처리가 끝난 학습 데이터를 바탕으로 scikit-learn 라이브러리를 통해 집값 예측 정규화 Lasso 회귀 모델을 학습해봅시다.**"
      ]
    },
    {
      "cell_type": "code",
      "metadata": {
        "id": "GGK4bUzzSSw6",
        "colab": {
          "base_uri": "https://localhost:8080/"
        },
        "outputId": "5ac202ae-d517-409b-c8f2-b52957082907"
      },
      "source": [
        "from sklearn.linear_model import Lasso\n",
        "# lasso regression\n",
        "model_lasso = Lasso(alpha=1000)\n",
        "model_lasso.fit(train_set_features, train_set_target)\n",
        "\n",
        "print(\"Train_score: \", model_lasso.score(train_set_features, train_set_target))\n",
        "  \n",
        "# command to hide the warning box\n",
        "final_prediction = model_ridge.predict(test_set_features)\n",
        "final_laaso_mse = mean_squared_error(test_set_target, final_prediction)\n",
        "final_laaso_rmse = np.sqrt(final_laaso_mse)\n",
        "print(\"RMSE is: \", final_laaso_rmse)\n"
      ],
      "execution_count": 53,
      "outputs": [
        {
          "output_type": "stream",
          "name": "stdout",
          "text": [
            "Train_score:  0.6451045186115931\n",
            "RMSE is:  73665.80731174634\n"
          ]
        }
      ]
    },
    {
      "cell_type": "markdown",
      "metadata": {
        "id": "Ghfp4W83Qw4z"
      },
      "source": [
        "# **Extra Activity #1-7: scikit-learn 라이브러리의 MLP (딥러닝) 라이브러리를 이용해서 집값을 더 정확히 예측해봅시다.**"
      ]
    },
    {
      "cell_type": "code",
      "metadata": {
        "colab": {
          "base_uri": "https://localhost:8080/"
        },
        "id": "_AtER-QXQy5p",
        "outputId": "bc178944-e487-41b9-87de-bc46e2e8d729"
      },
      "source": [
        "# Set hidden_layer_sizes (32), (64), (64,32), (32,54,32) max_iter=1000\n",
        "\n",
        "\n",
        "# MLP regressor\n"
      ],
      "execution_count": null,
      "outputs": [
        {
          "output_type": "stream",
          "text": [
            "Train_score :  0.8498967003264114\n",
            "Test_score :  0.8097313158451622\n",
            "Errors in housing value prediction :  0.17865134276475914\n",
            "RMSE is :  50246.701993231174\n"
          ],
          "name": "stdout"
        }
      ]
    }
  ]
}